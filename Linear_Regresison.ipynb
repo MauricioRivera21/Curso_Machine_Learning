{
  "nbformat": 4,
  "nbformat_minor": 0,
  "metadata": {
    "colab": {
      "name": "Linear_Regresison",
      "provenance": []
    },
    "kernelspec": {
      "name": "python3",
      "display_name": "Python 3"
    },
    "language_info": {
      "name": "python"
    }
  },
  "cells": [
    {
      "cell_type": "code",
      "metadata": {
        "id": "HQ9FmJ1AYrO8",
        "colab": {
          "base_uri": "https://localhost:8080/"
        },
        "outputId": "df90bc23-c8d3-4483-c6d1-7a2705672728"
      },
      "source": [
        "## (extra) Comandos de Linux (se debe usar el ! primero)\n",
        "!ls    #en qué carpeta estoy trabajando\n",
        "!pwd   #ubicación de la carpeta en donde estoy trabajando"
      ],
      "execution_count": null,
      "outputs": [
        {
          "output_type": "stream",
          "name": "stdout",
          "text": [
            "sample_data\n",
            "/content\n"
          ]
        }
      ]
    },
    {
      "cell_type": "code",
      "metadata": {
        "id": "NwAa5Zw0Y73E"
      },
      "source": [
        "import numpy as np\n",
        "import matplotlib.pyplot as plt  #librería para graficar"
      ],
      "execution_count": null,
      "outputs": []
    },
    {
      "cell_type": "code",
      "metadata": {
        "id": "OHyAsgTUZjq8",
        "colab": {
          "base_uri": "https://localhost:8080/"
        },
        "outputId": "18476e94-a908-4e31-fddb-b6b628f27b79"
      },
      "source": [
        "#Importar librería con algoritmos de Machine Learning\n",
        "from sklearn.datasets.samples_generator import make_regression  \n",
        "#make_regression hace que pueda obtener datos para usar"
      ],
      "execution_count": null,
      "outputs": [
        {
          "output_type": "stream",
          "name": "stderr",
          "text": [
            "/usr/local/lib/python3.7/dist-packages/sklearn/utils/deprecation.py:144: FutureWarning: The sklearn.datasets.samples_generator module is  deprecated in version 0.22 and will be removed in version 0.24. The corresponding classes / functions should instead be imported from sklearn.datasets. Anything that cannot be imported from sklearn.datasets is now part of the private API.\n",
            "  warnings.warn(message, FutureWarning)\n"
          ]
        }
      ]
    },
    {
      "cell_type": "code",
      "metadata": {
        "id": "LGnXaCrbaQFo"
      },
      "source": [
        "#Generar una data random de regresión\n",
        "X, y = make_regression(n_samples=100, n_features=1, n_informative=1, noise=35)\n",
        "\n",
        "#n_samples: cantidad de muestras (filas)\n",
        "#n_features: cantidad de caracteristicas (columnas)\n",
        "#noise: nivel de dispersión de los puntos"
      ],
      "execution_count": null,
      "outputs": []
    },
    {
      "cell_type": "code",
      "metadata": {
        "colab": {
          "base_uri": "https://localhost:8080/"
        },
        "id": "L56rRsy4bT7J",
        "outputId": "ee6cc37c-b783-46a1-97c2-598f1965cc55"
      },
      "source": [
        "#Viendo los tamaños\n",
        "print(X.shape)   #X tiene 100 filas, pero también puede tener más columnas (fratures/carcteristicas)\n",
        "print(y.shape)   #y solo puede ser de 1 dimensión"
      ],
      "execution_count": null,
      "outputs": [
        {
          "output_type": "stream",
          "name": "stdout",
          "text": [
            "(100, 1)\n",
            "(100,)\n"
          ]
        }
      ]
    },
    {
      "cell_type": "code",
      "metadata": {
        "colab": {
          "base_uri": "https://localhost:8080/",
          "height": 265
        },
        "id": "ad1GdDwbbwf3",
        "outputId": "c7b5a988-ec8f-4c58-a748-940a7174badd"
      },
      "source": [
        "plt.scatter(X, y)   #Función para plotear puntos\n",
        "plt.show()"
      ],
      "execution_count": null,
      "outputs": [
        {
          "output_type": "display_data",
          "data": {
            "image/png": "[encoded data removed]",
            "text/plain": [
              "<Figure size 432x288 with 1 Axes>"
            ]
          },
          "metadata": {
            "needs_background": "light"
          }
        }
      ]
    },
    {
      "cell_type": "code",
      "metadata": {
        "colab": {
          "base_uri": "https://localhost:8080/"
        },
        "id": "g8pkxL6qdDzb",
        "outputId": "4cea87f5-8bad-476f-b088-a1546c93953a"
      },
      "source": [
        "#Creación de números random\n",
        "np.random.seed(30)    #para obtener los mismos valores aleatorios\n",
        "np.random.rand(4)     #obtener 4 números random (uniformes -> [0;1]) el .rand los hace uniformes"
      ],
      "execution_count": null,
      "outputs": [
        {
          "output_type": "execute_result",
          "data": {
            "text/plain": [
              "array([0.64414354, 0.38074849, 0.66304791, 0.16365073])"
            ]
          },
          "metadata": {},
          "execution_count": 23
        }
      ]
    },
    {
      "cell_type": "code",
      "metadata": {
        "colab": {
          "base_uri": "https://localhost:8080/",
          "height": 282
        },
        "id": "UpERSxV4deEF",
        "outputId": "75365d80-150a-4222-dca1-fc0d4cfb74c8"
      },
      "source": [
        "N=1000\n",
        "y=np.random.randn(N)  #obtener 1000 números random (no uniformes) el .randn los hace No uniformes\n",
        "x=np.arange(N)   #creación de índices\n",
        "\n",
        "plt.scatter(x,y)\n",
        "plt.plot()"
      ],
      "execution_count": null,
      "outputs": [
        {
          "output_type": "execute_result",
          "data": {
            "text/plain": [
              "[]"
            ]
          },
          "metadata": {},
          "execution_count": 26
        },
        {
          "output_type": "display_data",
          "data": {
            "image/png": "[encoded data removed]",
            "text/plain": [
              "<Figure size 432x288 with 1 Axes>"
            ]
          },
          "metadata": {
            "needs_background": "light"
          }
        }
      ]
    },
    {
      "cell_type": "code",
      "metadata": {
        "colab": {
          "base_uri": "https://localhost:8080/",
          "height": 513
        },
        "id": "65Cm3XpfeqFX",
        "outputId": "15f941d9-8c63-443c-a004-635dc0c1aa43"
      },
      "source": [
        "# Diferencia entre uniforme y no uniforme\n",
        "uniforme=np.random.rand(1000)\n",
        "no_uniforme=np.random.randn(1000)\n",
        "\n",
        "indices=np.arange(N)   #creación de índices\n",
        "\n",
        "#Uniforme\n",
        "plt.hist(uniforme, bins=20)   #la prob de que sea cualquier número es similar\n",
        "plt.show()  \n",
        "\n",
        "#No uniforme\n",
        "plt.hist(no_uniforme, bins=20)   #la prob de que sea 0 es la más alta\n",
        "plt.show()"
      ],
      "execution_count": null,
      "outputs": [
        {
          "output_type": "display_data",
          "data": {
            "image/png": "[encoded data removed]",
            "text/plain": [
              "<Figure size 432x288 with 1 Axes>"
            ]
          },
          "metadata": {
            "needs_background": "light"
          }
        },
        {
          "output_type": "display_data",
          "data": {
            "image/png": "[encoded data removed]",
            "text/plain": [
              "<Figure size 432x288 with 1 Axes>"
            ]
          },
          "metadata": {
            "needs_background": "light"
          }
        }
      ]
    },
    {
      "cell_type": "code",
      "metadata": {
        "colab": {
          "base_uri": "https://localhost:8080/"
        },
        "id": "TG7icRHxf7Bx",
        "outputId": "983a3943-5bfc-4c37-bedf-cc0671b15133"
      },
      "source": [
        "#Escoger un valor aleatorio de una matriz\n",
        "a = np.array([1, 2, 3, 4, 5])\n",
        "np.random.choice(a, size=2)    #escofer 2 valores aleatorios del vector a"
      ],
      "execution_count": null,
      "outputs": [
        {
          "output_type": "execute_result",
          "data": {
            "text/plain": [
              "array([5, 4])"
            ]
          },
          "metadata": {},
          "execution_count": 33
        }
      ]
    },
    {
      "cell_type": "code",
      "metadata": {
        "colab": {
          "base_uri": "https://localhost:8080/"
        },
        "id": "d99jIO9GgwCh",
        "outputId": "f63e75a5-ac2e-48ea-a1ba-7c2bcfaddcf0"
      },
      "source": [
        "# Crear una matriz con datos aleatorios enteros(de 0a100 en una matriz 10x10)\n",
        "np.random.randint(100, size=(10,10))\n",
        "\n",
        "# Forma rudimentaria (chequear solo los comandos para usarlos solos en otra ocasión)\n",
        "np.floor(100*np.random.rand(10,10)).astype(np.int)\n",
        "#floor: quita todos los decimales\n",
        "#astype(np.int): vuelve a enteros a los valores dentro\n"
      ],
      "execution_count": null,
      "outputs": [
        {
          "output_type": "execute_result",
          "data": {
            "text/plain": [
              "array([[23, 86, 50, 83, 85, 59, 57, 96, 59, 91],\n",
              "       [ 8, 81, 29, 31, 73, 43, 52, 50,  3, 15],\n",
              "       [18, 34, 91, 82, 29, 75, 21, 64, 17, 96],\n",
              "       [64, 27, 93, 40, 32, 56, 40, 55,  2, 55],\n",
              "       [39, 57, 37, 60, 25, 43, 78, 99, 22, 75],\n",
              "       [47, 75, 91, 48, 41,  7, 68,  6, 15, 40],\n",
              "       [99,  8, 39, 21, 50, 29, 91, 51, 66, 13],\n",
              "       [81, 37, 40, 89, 40, 64, 51,  0, 36, 39],\n",
              "       [64, 96, 39, 78, 63, 88,  0, 23, 81, 91],\n",
              "       [78, 29, 81, 79,  8, 28, 41, 87, 80,  5]])"
            ]
          },
          "metadata": {},
          "execution_count": 34
        }
      ]
    },
    {
      "cell_type": "code",
      "metadata": {
        "colab": {
          "base_uri": "https://localhost:8080/"
        },
        "id": "6sRR4KLove0n",
        "outputId": "c9bec888-a5a0-4f9c-aaef-06eb9f2054c4"
      },
      "source": [
        "#Creación de una imagen random:\n",
        "imagen = np.random.randint(256, size=(64,64))  #le estoy diciendo que vaya de 0 a 256 y que sea una matriz de 64x64\n",
        "imagen  "
      ],
      "execution_count": null,
      "outputs": [
        {
          "output_type": "execute_result",
          "data": {
            "text/plain": [
              "array([[ 71, 152,  39, ..., 218,  84,  37],\n",
              "       [108,  66, 241, ..., 146,  40, 192],\n",
              "       [104,  89, 114, ..., 191, 178,  62],\n",
              "       ...,\n",
              "       [124, 194, 245, ...,  37, 181,  82],\n",
              "       [173, 208,  73, ...,   9,  49, 107],\n",
              "       [  6, 251, 251, ...,  70, 250, 234]])"
            ]
          },
          "metadata": {},
          "execution_count": 41
        }
      ]
    },
    {
      "cell_type": "code",
      "metadata": {
        "colab": {
          "base_uri": "https://localhost:8080/",
          "height": 575
        },
        "id": "jGcUILDExCnU",
        "outputId": "fb984ac5-cc9b-4088-93e0-73b4e14e2fa1"
      },
      "source": [
        "plt.figure(figsize=(10,10))    #tamaño de la imagen\n",
        "plt.imshow(imagen, cmap='gray')   #le estoy diciendo que represente la matriz que he creado, pero de color gris\n",
        "plt.axis('off')    #para quitar los axis y se vea más como una imagen\n",
        "plt.show()"
      ],
      "execution_count": null,
      "outputs": [
        {
          "output_type": "display_data",
          "data": {
            "image/png": "[encoded data removed]",
            "text/plain": [
              "<Figure size 720x720 with 1 Axes>"
            ]
          },
          "metadata": {
            "needs_background": "light"
          }
        }
      ]
    },
    {
      "cell_type": "code",
      "metadata": {
        "id": "mq79b-LYDxZC"
      },
      "source": [
        "#Crear un vector de [0^2, 1^2, ... 9^2] y guardar solo aquello que sean pares\n",
        "variable = [z**2 for z in range(10) if z%2==0]\n",
        "variable"
      ],
      "execution_count": null,
      "outputs": []
    },
    {
      "cell_type": "markdown",
      "metadata": {
        "id": "VGRkrpTDy7aK"
      },
      "source": [
        "# Linear Regression"
      ]
    },
    {
      "cell_type": "code",
      "metadata": {
        "id": "JRa7KRely-F1"
      },
      "source": [
        "import numpy as np\n",
        "import matplotlib.pyplot as plt  #librería para graficar"
      ],
      "execution_count": null,
      "outputs": []
    },
    {
      "cell_type": "code",
      "metadata": {
        "id": "FvxAYfExzCTO"
      },
      "source": [
        "#Importar librería con algoritmos de Machine Learning\n",
        "from sklearn.datasets.samples_generator import make_regression  \n",
        "#make_regression hace que pueda obtener datos para usar"
      ],
      "execution_count": null,
      "outputs": []
    },
    {
      "cell_type": "code",
      "metadata": {
        "id": "uNawad_5zE59"
      },
      "source": [
        "#Generar una data random de regresión\n",
        "X, y = make_regression(n_samples=100, n_features=1, n_informative=1, noise=5)\n",
        "\n",
        "#n_samples: cantidad de muestras (filas)\n",
        "#n_features: cantidad de caracteristicas (columnas)\n",
        "#noise: nivel de dispersión de los puntos"
      ],
      "execution_count": null,
      "outputs": []
    },
    {
      "cell_type": "code",
      "metadata": {
        "id": "lsb7Hbzd3dLa"
      },
      "source": [
        "## MÉTODO DE LA GRADIENTE:\n",
        "def gradient_descent(X, y, lr=0.0001, ep=0.0001, max_iter=10000):  #lr = alpha\n",
        "  converged=False\n",
        "  count_iter=0\n",
        "\n",
        "  #Se colocan el valor de cada parámetro aleatoriamente\n",
        "  w0=np.random.rand(1)\n",
        "  w1=np.random.rand(1)\n",
        "  \n",
        "  ## Función Costo\n",
        "  N=len(X)   #cantidad de elementos\n",
        "  J= (1/(2*N))*sum( [ (w0 + w1*X[i] - y[i])**2 for i in range(N) ] )\n",
        "  #para_ver_graf_Error: \n",
        "  costfn = [J]\n",
        "\n",
        "  ## Gradiente:\n",
        "  while not converged:\n",
        "    grad_w0= (1/N)*sum([(w0 + w1*X[i] - y[i])*1 for i in range(N)]) #Notar el *1 que es debido a que x0=1 según la regla de este método\n",
        "    grad_w1= (1/N)*sum([(w0 + w1*X[i] - y[i])*i for i in range(N)])\n",
        "\n",
        "    w0 = w0 - lr*grad_w0\n",
        "    w1 = w1 - lr*grad_w1\n",
        "\n",
        "    #calcular la nueva Función de costo con los w0 y w1 actualizados\n",
        "    err= (1/(2*N))*sum([(w0 + w1*X[i] - y[i])**2 for i in range(N)])\n",
        "    #para_ver_graf_Error: \n",
        "    costfn.append(err)\n",
        "\n",
        "    #para parar (además que cuando ya llega a 1000)\n",
        "    if abs(J-err)<ep:\n",
        "      print(f\"Converged successfully in iter: {count_iter}\")\n",
        "      converged=True\n",
        "\n",
        "    if count_iter == max_iter:\n",
        "      converged=True\n",
        "\n",
        "    J = err   #actualizando el J\n",
        "    count_iter +=1\n",
        "  return w0, w1, costfn"
      ],
      "execution_count": null,
      "outputs": []
    },
    {
      "cell_type": "code",
      "metadata": {
        "id": "HYMyNtTU-353",
        "colab": {
          "base_uri": "https://localhost:8080/"
        },
        "outputId": "d6afcd08-61f4-41e2-bcbf-c300052fab6d"
      },
      "source": [
        "## Inicialmente vs Al final\n",
        "#modelo inicial\n",
        "w0_i = np.random.rand(1)\n",
        "w1_i = np.random.rand(1)\n",
        "#modelo final\n",
        "#w0_f, w1_f = gradient_descent(X, y)\n",
        "#para_ver_graf_Error tmb: \n",
        "w0_f, w1_f, C = gradient_descent(X, y)\n",
        "\n"
      ],
      "execution_count": null,
      "outputs": [
        {
          "output_type": "stream",
          "name": "stdout",
          "text": [
            "Converged successfully in iter: 8265\n"
          ]
        }
      ]
    },
    {
      "cell_type": "code",
      "metadata": {
        "colab": {
          "base_uri": "https://localhost:8080/",
          "height": 517
        },
        "id": "svhT2XKOCrTA",
        "outputId": "20f11e9d-6e13-4f06-d7fe-af97e4bca6c5"
      },
      "source": [
        "#gráfica de ambos\n",
        "plt.scatter(X, y)\n",
        "plt.plot(X, w0_i+w1_i*X, 'g')\n",
        "plt.plot(X, w0_f+w1_f*X, 'r')\n",
        "plt.show()\n",
        "\n",
        "plt.plot(C)\n",
        "plt.show()"
      ],
      "execution_count": null,
      "outputs": [
        {
          "output_type": "display_data",
          "data": {
            "image/png": "[encoded data removed]",
            "text/plain": [
              "<Figure size 432x288 with 1 Axes>"
            ]
          },
          "metadata": {
            "needs_background": "light"
          }
        },
        {
          "output_type": "display_data",
          "data": {
            "image/png": "[encoded data removed]",
            "text/plain": [
              "<Figure size 432x288 with 1 Axes>"
            ]
          },
          "metadata": {
            "needs_background": "light"
          }
        }
      ]
    },
    {
      "cell_type": "code",
      "metadata": {
        "colab": {
          "base_uri": "https://localhost:8080/"
        },
        "id": "7JgKtR4_Ardi",
        "outputId": "7cb1413d-d1c5-4c27-b9e3-b889b6c970e5"
      },
      "source": [
        "print(f\"La función de hipótesis es h(x): {np.round(w0_f[0],2)} + {np.round(w1_f[0],2)}*x\")"
      ],
      "execution_count": null,
      "outputs": [
        {
          "output_type": "stream",
          "name": "stdout",
          "text": [
            "La función de hipótesis es h(x): 1.12 + 33.13*x\n"
          ]
        }
      ]
    }
  ]
}