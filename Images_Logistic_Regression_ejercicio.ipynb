{
  "nbformat": 4,
  "nbformat_minor": 0,
  "metadata": {
    "colab": {
      "name": "Images/Logistic Regression",
      "provenance": [],
      "collapsed_sections": [
        "fN1SIfPKNfvY",
        "xqj4KIbjeSvB",
        "EHH0SkOO2e70"
      ]
    },
    "kernelspec": {
      "name": "python3",
      "display_name": "Python 3"
    },
    "language_info": {
      "name": "python"
    }
  },
  "cells": [
    {
      "cell_type": "markdown",
      "metadata": {
        "id": "fN1SIfPKNfvY"
      },
      "source": [
        "# Procesamiento de imágenes"
      ]
    },
    {
      "cell_type": "code",
      "metadata": {
        "id": "pasJs7g1Cv_H"
      },
      "source": [
        "from sklearn.datasets import load_digits\n",
        "import matplotlib.pyplot as plt\n",
        "import numpy as np"
      ],
      "execution_count": null,
      "outputs": []
    },
    {
      "cell_type": "code",
      "metadata": {
        "id": "O6Bf-7u6DBjl"
      },
      "source": [
        "#cargando la data de la libreria digits y almacenandola en una variable\n",
        "digits = load_digits()"
      ],
      "execution_count": null,
      "outputs": []
    },
    {
      "cell_type": "code",
      "metadata": {
        "colab": {
          "base_uri": "https://localhost:8080/"
        },
        "id": "Ln2FMyndDQA8",
        "outputId": "c33d0d38-64c1-4f51-ff77-4f2645a09901"
      },
      "source": [
        "print(digits['data'].shape)  #tiene 1797 filas y 64 columnas. \n",
        "#Cada fila es la matriz de imagen de un número\n",
        "print(digits)"
      ],
      "execution_count": null,
      "outputs": [
        {
          "output_type": "stream",
          "name": "stdout",
          "text": [
            "(1797, 64)\n",
            "{'data': array([[ 0.,  0.,  5., ...,  0.,  0.,  0.],\n",
            "       [ 0.,  0.,  0., ..., 10.,  0.,  0.],\n",
            "       [ 0.,  0.,  0., ..., 16.,  9.,  0.],\n",
            "       ...,\n",
            "       [ 0.,  0.,  1., ...,  6.,  0.,  0.],\n",
            "       [ 0.,  0.,  2., ..., 12.,  0.,  0.],\n",
            "       [ 0.,  0., 10., ..., 12.,  1.,  0.]]), 'target': array([0, 1, 2, ..., 8, 9, 8]), 'target_names': array([0, 1, 2, 3, 4, 5, 6, 7, 8, 9]), 'images': array([[[ 0.,  0.,  5., ...,  1.,  0.,  0.],\n",
            "        [ 0.,  0., 13., ..., 15.,  5.,  0.],\n",
            "        [ 0.,  3., 15., ..., 11.,  8.,  0.],\n",
            "        ...,\n",
            "        [ 0.,  4., 11., ..., 12.,  7.,  0.],\n",
            "        [ 0.,  2., 14., ..., 12.,  0.,  0.],\n",
            "        [ 0.,  0.,  6., ...,  0.,  0.,  0.]],\n",
            "\n",
            "       [[ 0.,  0.,  0., ...,  5.,  0.,  0.],\n",
            "        [ 0.,  0.,  0., ...,  9.,  0.,  0.],\n",
            "        [ 0.,  0.,  3., ...,  6.,  0.,  0.],\n",
            "        ...,\n",
            "        [ 0.,  0.,  1., ...,  6.,  0.,  0.],\n",
            "        [ 0.,  0.,  1., ...,  6.,  0.,  0.],\n",
            "        [ 0.,  0.,  0., ..., 10.,  0.,  0.]],\n",
            "\n",
            "       [[ 0.,  0.,  0., ..., 12.,  0.,  0.],\n",
            "        [ 0.,  0.,  3., ..., 14.,  0.,  0.],\n",
            "        [ 0.,  0.,  8., ..., 16.,  0.,  0.],\n",
            "        ...,\n",
            "        [ 0.,  9., 16., ...,  0.,  0.,  0.],\n",
            "        [ 0.,  3., 13., ..., 11.,  5.,  0.],\n",
            "        [ 0.,  0.,  0., ..., 16.,  9.,  0.]],\n",
            "\n",
            "       ...,\n",
            "\n",
            "       [[ 0.,  0.,  1., ...,  1.,  0.,  0.],\n",
            "        [ 0.,  0., 13., ...,  2.,  1.,  0.],\n",
            "        [ 0.,  0., 16., ..., 16.,  5.,  0.],\n",
            "        ...,\n",
            "        [ 0.,  0., 16., ..., 15.,  0.,  0.],\n",
            "        [ 0.,  0., 15., ..., 16.,  0.,  0.],\n",
            "        [ 0.,  0.,  2., ...,  6.,  0.,  0.]],\n",
            "\n",
            "       [[ 0.,  0.,  2., ...,  0.,  0.,  0.],\n",
            "        [ 0.,  0., 14., ..., 15.,  1.,  0.],\n",
            "        [ 0.,  4., 16., ..., 16.,  7.,  0.],\n",
            "        ...,\n",
            "        [ 0.,  0.,  0., ..., 16.,  2.,  0.],\n",
            "        [ 0.,  0.,  4., ..., 16.,  2.,  0.],\n",
            "        [ 0.,  0.,  5., ..., 12.,  0.,  0.]],\n",
            "\n",
            "       [[ 0.,  0., 10., ...,  1.,  0.,  0.],\n",
            "        [ 0.,  2., 16., ...,  1.,  0.,  0.],\n",
            "        [ 0.,  0., 15., ..., 15.,  0.,  0.],\n",
            "        ...,\n",
            "        [ 0.,  4., 16., ..., 16.,  6.,  0.],\n",
            "        [ 0.,  8., 16., ..., 16.,  8.,  0.],\n",
            "        [ 0.,  1.,  8., ..., 12.,  1.,  0.]]]), 'DESCR': \".. _digits_dataset:\\n\\nOptical recognition of handwritten digits dataset\\n--------------------------------------------------\\n\\n**Data Set Characteristics:**\\n\\n    :Number of Instances: 5620\\n    :Number of Attributes: 64\\n    :Attribute Information: 8x8 image of integer pixels in the range 0..16.\\n    :Missing Attribute Values: None\\n    :Creator: E. Alpaydin (alpaydin '@' boun.edu.tr)\\n    :Date: July; 1998\\n\\nThis is a copy of the test set of the UCI ML hand-written digits datasets\\nhttps://archive.ics.uci.edu/ml/datasets/Optical+Recognition+of+Handwritten+Digits\\n\\nThe data set contains images of hand-written digits: 10 classes where\\neach class refers to a digit.\\n\\nPreprocessing programs made available by NIST were used to extract\\nnormalized bitmaps of handwritten digits from a preprinted form. From a\\ntotal of 43 people, 30 contributed to the training set and different 13\\nto the test set. 32x32 bitmaps are divided into nonoverlapping blocks of\\n4x4 and the number of on pixels are counted in each block. This generates\\nan input matrix of 8x8 where each element is an integer in the range\\n0..16. This reduces dimensionality and gives invariance to small\\ndistortions.\\n\\nFor info on NIST preprocessing routines, see M. D. Garris, J. L. Blue, G.\\nT. Candela, D. L. Dimmick, J. Geist, P. J. Grother, S. A. Janet, and C.\\nL. Wilson, NIST Form-Based Handprint Recognition System, NISTIR 5469,\\n1994.\\n\\n.. topic:: References\\n\\n  - C. Kaynak (1995) Methods of Combining Multiple Classifiers and Their\\n    Applications to Handwritten Digit Recognition, MSc Thesis, Institute of\\n    Graduate Studies in Science and Engineering, Bogazici University.\\n  - E. Alpaydin, C. Kaynak (1998) Cascading Classifiers, Kybernetika.\\n  - Ken Tang and Ponnuthurai N. Suganthan and Xi Yao and A. Kai Qin.\\n    Linear dimensionalityreduction using relevance weighted LDA. School of\\n    Electrical and Electronic Engineering Nanyang Technological University.\\n    2005.\\n  - Claudio Gentile. A New Approximate Maximal Margin Classification\\n    Algorithm. NIPS. 2000.\"}\n"
          ]
        }
      ]
    },
    {
      "cell_type": "code",
      "metadata": {
        "colab": {
          "base_uri": "https://localhost:8080/"
        },
        "id": "qnrFvOg2DR81",
        "outputId": "0903ac1e-cf2f-4b59-a471-66ef59e1dfa2"
      },
      "source": [
        "#Matriz de la primera fila, la cual sería del número \"0\"\n",
        "imagen = digits['data'][0,:]\n",
        "imagen"
      ],
      "execution_count": null,
      "outputs": [
        {
          "output_type": "execute_result",
          "data": {
            "text/plain": [
              "array([ 0.,  0.,  5., 13.,  9.,  1.,  0.,  0.,  0.,  0., 13., 15., 10.,\n",
              "       15.,  5.,  0.,  0.,  3., 15.,  2.,  0., 11.,  8.,  0.,  0.,  4.,\n",
              "       12.,  0.,  0.,  8.,  8.,  0.,  0.,  5.,  8.,  0.,  0.,  9.,  8.,\n",
              "        0.,  0.,  4., 11.,  0.,  1., 12.,  7.,  0.,  0.,  2., 14.,  5.,\n",
              "       10., 12.,  0.,  0.,  0.,  0.,  6., 13., 10.,  0.,  0.,  0.])"
            ]
          },
          "metadata": {},
          "execution_count": 30
        }
      ]
    },
    {
      "cell_type": "code",
      "metadata": {
        "colab": {
          "base_uri": "https://localhost:8080/"
        },
        "id": "4ydkXVh9DhLV",
        "outputId": "f46ee675-9acc-40d4-9389-d5675e1d2cfd"
      },
      "source": [
        "#Son 64 columnas(atributos) por lo que se necesita tener la forma de una matriz 8x8=64 para que la imagen salga correctamente\n",
        "imagen=imagen.reshape(8,8)   #reshape mantiene permanente el cambio de la variable imagen\n",
        "imagen    #imagen de 0 en matriz"
      ],
      "execution_count": null,
      "outputs": [
        {
          "output_type": "execute_result",
          "data": {
            "text/plain": [
              "array([[ 0.,  0.,  5., 13.,  9.,  1.,  0.,  0.],\n",
              "       [ 0.,  0., 13., 15., 10., 15.,  5.,  0.],\n",
              "       [ 0.,  3., 15.,  2.,  0., 11.,  8.,  0.],\n",
              "       [ 0.,  4., 12.,  0.,  0.,  8.,  8.,  0.],\n",
              "       [ 0.,  5.,  8.,  0.,  0.,  9.,  8.,  0.],\n",
              "       [ 0.,  4., 11.,  0.,  1., 12.,  7.,  0.],\n",
              "       [ 0.,  2., 14.,  5., 10., 12.,  0.,  0.],\n",
              "       [ 0.,  0.,  6., 13., 10.,  0.,  0.,  0.]])"
            ]
          },
          "metadata": {},
          "execution_count": 31
        }
      ]
    },
    {
      "cell_type": "markdown",
      "metadata": {
        "id": "f1sEO9OqEzqY"
      },
      "source": [
        ""
      ]
    },
    {
      "cell_type": "code",
      "metadata": {
        "colab": {
          "base_uri": "https://localhost:8080/",
          "height": 290
        },
        "id": "q8RoooYCEBZM",
        "outputId": "ad910406-429e-45d7-cbde-987102a3ca99"
      },
      "source": [
        "#Mostrando la imagen del valor 0:\n",
        "plt.figure(figsize=(9,4))     #tamaño de la imagen\n",
        "plt.imshow(imagen,cmap='gray')\n",
        "plt.title(f\"target: {digits['target'][0]}\", size=24)\n",
        "plt.show()"
      ],
      "execution_count": null,
      "outputs": [
        {
          "output_type": "display_data",
          "data": {
            "image/png": "[encoded data removed]",
            "text/plain": [
              "<Figure size 648x288 with 1 Axes>"
            ]
          },
          "metadata": {
            "needs_background": "light"
          }
        }
      ]
    },
    {
      "cell_type": "code",
      "metadata": {
        "colab": {
          "base_uri": "https://localhost:8080/",
          "height": 265
        },
        "id": "UPwq9yoKEned",
        "outputId": "11eb2892-dd14-420d-97ff-75f2fa186b60"
      },
      "source": [
        "index = np.random.randint(digits['data'].shape[0])\n",
        "imagen2 = digits['data'][index,:].reshape(8,8)\n",
        "\n",
        "#Mostrando la imagen 2:\n",
        "plt.imshow(imagen2,cmap='gray')\n",
        "plt.show()\n"
      ],
      "execution_count": null,
      "outputs": [
        {
          "output_type": "display_data",
          "data": {
            "image/png": "[encoded data removed]",
            "text/plain": [
              "<Figure size 432x288 with 1 Axes>"
            ]
          },
          "metadata": {
            "needs_background": "light"
          }
        }
      ]
    },
    {
      "cell_type": "code",
      "metadata": {
        "colab": {
          "base_uri": "https://localhost:8080/",
          "height": 265
        },
        "id": "ey8LDX5TFphr",
        "outputId": "b9217219-aa29-46fc-e14d-abb54765e68c"
      },
      "source": [
        "#Para mostrar números con sus respectivas imágenes\n",
        "plt.figure(figsize=(20,4))\n",
        "for index, (image,label) in enumerate(zip(digits['data'][:5], digits['target'][:5])):   #los 5 primeros valores de data y de target\n",
        "  plt.subplot(1,5, index+1)       #es necesario poner el +1, sino sale error\n",
        "  plt.imshow(image.reshape(8,8), cmap='gray')\n",
        "  plt.title(f\"target: {label}\", size=24)"
      ],
      "execution_count": null,
      "outputs": [
        {
          "output_type": "display_data",
          "data": {
            "image/png": "[encoded data removed]",
            "text/plain": [
              "<Figure size 1440x288 with 5 Axes>"
            ]
          },
          "metadata": {
            "needs_background": "light"
          }
        }
      ]
    },
    {
      "cell_type": "code",
      "metadata": {
        "colab": {
          "base_uri": "https://localhost:8080/",
          "height": 265
        },
        "id": "m8DZqu2DdK5D",
        "outputId": "681d5f9e-8706-4b8d-dfd8-fc81899a97da"
      },
      "source": [
        "#Si quiero mostrar 5 números aleatorios con sus respectivas imágenes:\n",
        "idx = np.random.randint(digits['data'].shape[0]-5)\n",
        "plt.figure(figsize=(20,4))\n",
        "for index, (image, label) in enumerate(zip(digits['data'][idx:idx+5], digits['target'][idx:idx+5])):\n",
        "  plt.subplot(1,5, index + 1)\n",
        "  plt.imshow(image.reshape(8,8), cmap='gray')\n",
        "  plt.title(f\"target: {label}\", size=24)"
      ],
      "execution_count": null,
      "outputs": [
        {
          "output_type": "display_data",
          "data": {
            "image/png": "[encoded data removed]",
            "text/plain": [
              "<Figure size 1440x288 with 5 Axes>"
            ]
          },
          "metadata": {
            "needs_background": "light"
          }
        }
      ]
    },
    {
      "cell_type": "markdown",
      "metadata": {
        "id": "xqj4KIbjeSvB"
      },
      "source": [
        "# Entrenando a mi modelo"
      ]
    },
    {
      "cell_type": "code",
      "metadata": {
        "id": "d67JNVFCGZF0"
      },
      "source": [
        "#Librería para usar el model selection\n",
        "from sklearn.model_selection import train_test_split"
      ],
      "execution_count": null,
      "outputs": []
    },
    {
      "cell_type": "code",
      "metadata": {
        "id": "Xy7dAWwVIlIt"
      },
      "source": [
        "#Data de entrenamiento: X=digits['data']\n",
        "#Data de test: y=digits['target']\n",
        "X_train, X_test, y_train, y_test = train_test_split(digits['data'], digits['target'], test_size=0.25, random_state=42)   #25% de la data usada para el test"
      ],
      "execution_count": null,
      "outputs": []
    },
    {
      "cell_type": "code",
      "metadata": {
        "colab": {
          "base_uri": "https://localhost:8080/"
        },
        "id": "4SiozGTZIFri",
        "outputId": "273507a3-8f50-47dc-cd5f-b774ce86d29c"
      },
      "source": [
        "#De los más de 1700 datos, solo se utilizan 1347 lineas (imágenes de números)para entrenar y 450 para hacer el testeo\n",
        "X_train.shape, X_test.shape, y_train.shape, y_test.shape"
      ],
      "execution_count": null,
      "outputs": [
        {
          "output_type": "execute_result",
          "data": {
            "text/plain": [
              "((1347, 64), (450, 64), (1347,), (450,))"
            ]
          },
          "metadata": {},
          "execution_count": 47
        }
      ]
    },
    {
      "cell_type": "code",
      "metadata": {
        "id": "jwmBH-nCJFn1"
      },
      "source": [
        "#Librería para hacer uso de la Regresión Logística:\n",
        "from sklearn.linear_model import LogisticRegression"
      ],
      "execution_count": null,
      "outputs": []
    },
    {
      "cell_type": "code",
      "metadata": {
        "id": "FljYDEVXJVsr"
      },
      "source": [
        "#Creando mi modelo de Regresión Logística:\n",
        "model = LogisticRegression(solver='lbfgs', max_iter=10000)   #el solver=lbfgs es el de defecto y max_iter es la cantidad máxima de iteraciones(más precisión)"
      ],
      "execution_count": null,
      "outputs": []
    },
    {
      "cell_type": "code",
      "metadata": {
        "colab": {
          "base_uri": "https://localhost:8080/"
        },
        "id": "W1cBDa0lJYwf",
        "outputId": "71a73bb3-e685-412a-c594-8f30ac373e8a"
      },
      "source": [
        "#Le pongo los parámetros de mis valores al modelo y lo entreno a mi modelo\n",
        "model.fit(X_train, y_train)  "
      ],
      "execution_count": null,
      "outputs": [
        {
          "output_type": "execute_result",
          "data": {
            "text/plain": [
              "LogisticRegression(C=1.0, class_weight=None, dual=False, fit_intercept=True,\n",
              "                   intercept_scaling=1, l1_ratio=None, max_iter=10000,\n",
              "                   multi_class='auto', n_jobs=None, penalty='l2',\n",
              "                   random_state=None, solver='lbfgs', tol=0.0001, verbose=0,\n",
              "                   warm_start=False)"
            ]
          },
          "metadata": {},
          "execution_count": 50
        }
      ]
    },
    {
      "cell_type": "code",
      "metadata": {
        "colab": {
          "base_uri": "https://localhost:8080/"
        },
        "id": "sXWyuvu6uBb_",
        "outputId": "33461b2a-74ee-46bb-cce5-0c908840dc5b"
      },
      "source": [
        "X_train[0], y_train[0]"
      ],
      "execution_count": null,
      "outputs": [
        {
          "output_type": "execute_result",
          "data": {
            "text/plain": [
              "(array([ 0.,  0.,  2., 15., 15., 16., 11.,  0.,  0.,  0.,  8., 16., 11.,\n",
              "         3.,  0.,  0.,  0.,  0., 13.,  9.,  0.,  0.,  0.,  0.,  0.,  5.,\n",
              "        16.,  3.,  9., 11.,  3.,  0.,  0., 10., 15., 15., 16., 16., 11.,\n",
              "         0.,  0.,  6., 16., 10.,  7., 16.,  5.,  0.,  0.,  0.,  3.,  4.,\n",
              "        15.,  8.,  0.,  0.,  0.,  0.,  4., 15.,  7.,  0.,  0.,  0.]), 5)"
            ]
          },
          "metadata": {},
          "execution_count": 54
        }
      ]
    },
    {
      "cell_type": "markdown",
      "metadata": {
        "id": "V_tJjHKvwU-p"
      },
      "source": [
        "Resultado final esperado del Softmax (se usa One hot encoder) -> [0,1,2,3,4,5,6,7,8,9] 0 -> [1,0,0,0,0,0,0,0,0,0] 1 -> [0,1,0,0,0,0,0,0,0,0] 2 -> [0,0,1,0,0,0,0,0,0,0] 9 -> [0,0,0,0,0,0,0,0,0,1]"
      ]
    },
    {
      "cell_type": "code",
      "metadata": {
        "colab": {
          "base_uri": "https://localhost:8080/"
        },
        "id": "MQePyZMIJccz",
        "outputId": "6e9c23b5-64f5-4492-b93c-7c7c1cb5aac9"
      },
      "source": [
        "#Cantidad de valores que funcionarán de entrada\n",
        "model.coef_.shape  \n",
        "#10: los números de imagen van de 0 al 9 (cada fila es un número)\n",
        "#64: con 64 valores que el Softmax tiene como entrada dada la matriz 8x8"
      ],
      "execution_count": null,
      "outputs": [
        {
          "output_type": "execute_result",
          "data": {
            "text/plain": [
              "(10, 64)"
            ]
          },
          "metadata": {},
          "execution_count": 55
        }
      ]
    },
    {
      "cell_type": "code",
      "metadata": {
        "colab": {
          "base_uri": "https://localhost:8080/"
        },
        "id": "ca72OkdCzGFT",
        "outputId": "8d02259f-af35-4ea6-fa48-73f7cabdaa47"
      },
      "source": [
        "#número de iteraciones que se usó\n",
        "model.n_iter_    #se usaron 1919 iteraciones para hallar el modelo"
      ],
      "execution_count": null,
      "outputs": [
        {
          "output_type": "execute_result",
          "data": {
            "text/plain": [
              "array([1919], dtype=int32)"
            ]
          },
          "metadata": {},
          "execution_count": 57
        }
      ]
    },
    {
      "cell_type": "code",
      "metadata": {
        "colab": {
          "base_uri": "https://localhost:8080/"
        },
        "id": "GJcWvBlvzZGA",
        "outputId": "d6abdead-e1f5-4992-eee2-77d59f79525e"
      },
      "source": [
        "#Bias (el intercepto que se da con la recta)\n",
        "model.intercept_    #son 10 parámtros de intercepción"
      ],
      "execution_count": null,
      "outputs": [
        {
          "output_type": "execute_result",
          "data": {
            "text/plain": [
              "array([ 3.1499914 , -5.58751865,  1.05479371, -0.51292687, 14.06898098,\n",
              "       -9.21939618,  0.40937102,  4.03180585,  1.97742676, -9.37252802])"
            ]
          },
          "metadata": {},
          "execution_count": 58
        }
      ]
    },
    {
      "cell_type": "markdown",
      "metadata": {
        "id": "EHH0SkOO2e70"
      },
      "source": [
        "# Testeando mi modelo"
      ]
    },
    {
      "cell_type": "code",
      "metadata": {
        "colab": {
          "base_uri": "https://localhost:8080/"
        },
        "id": "BpztD-xTO1E-",
        "outputId": "312603e2-40c7-4d6e-d0d5-36f3743e499f"
      },
      "source": [
        "# Para poder ver el resultado de un único valor, necesito hacer un reshape (1,-1)\n",
        "predic_prueba = model.predict(X_test[0].reshape(1,-1))   #fijar bien el orden 1(una imagen de número) de 64 valores\n",
        "\n",
        "#Comparación:\n",
        "print(predic_prueba)\n",
        "print(y_test[0])\n",
        "\n",
        "#Como se puede ver, el valor coincide, con lo que sabemos que nuestro modelo hizo bien esta"
      ],
      "execution_count": null,
      "outputs": [
        {
          "output_type": "stream",
          "name": "stdout",
          "text": [
            "[6]\n",
            "6\n"
          ]
        }
      ]
    },
    {
      "cell_type": "code",
      "metadata": {
        "colab": {
          "base_uri": "https://localhost:8080/"
        },
        "id": "XBS-ahC8Sf0k",
        "outputId": "f972ea89-e5d8-464d-9a42-ff409ecb3a05"
      },
      "source": [
        "# Comparando los 20 primeros valores del test:\n",
        "print(model.predict(X_test[:20]))\n",
        "print(y_test[:20])"
      ],
      "execution_count": null,
      "outputs": [
        {
          "output_type": "stream",
          "name": "stdout",
          "text": [
            "[6 9 3 7 2 1 5 2 5 2 1 9 4 0 4 2 3 7 8 8]\n",
            "[6 9 3 7 2 1 5 2 5 2 1 9 4 0 4 2 3 7 8 8]\n"
          ]
        }
      ]
    },
    {
      "cell_type": "code",
      "metadata": {
        "colab": {
          "base_uri": "https://localhost:8080/"
        },
        "id": "TF2cSiu1Th5P",
        "outputId": "0801e15f-e292-4028-b0d6-12131c52d577"
      },
      "source": [
        "# Midiendo qué tan bueno es mi modelo\n",
        "score = model.score(X_test, y_test)\n",
        "score"
      ],
      "execution_count": null,
      "outputs": [
        {
          "output_type": "execute_result",
          "data": {
            "text/plain": [
              "0.9733333333333334"
            ]
          },
          "metadata": {},
          "execution_count": 62
        }
      ]
    },
    {
      "cell_type": "code",
      "metadata": {
        "id": "yyqoIc7sTmh0"
      },
      "source": [
        "# Para ver en qué valores se está confundiendo se utilizará la Mtriz de Confusión:\n",
        "from sklearn.metrics import confusion_matrix\n",
        "import seaborn as sns   #para hacer un mapa de calor (para usar con el confusion matrix)"
      ],
      "execution_count": null,
      "outputs": []
    },
    {
      "cell_type": "code",
      "metadata": {
        "id": "9WSK3MQy4owA"
      },
      "source": [
        "y_pred = model.predict(X_test)    #obtención de ls valores predictivos de mi modelo usando la data del X_test\n",
        "matriz_confusion = confusion_matrix(y_test, y_pred)    #haciendo la comparación de los datos que mi modelo obtuvo vs los correctos del y_test"
      ],
      "execution_count": null,
      "outputs": []
    },
    {
      "cell_type": "code",
      "metadata": {
        "colab": {
          "base_uri": "https://localhost:8080/",
          "height": 472
        },
        "id": "npa1h0HAUI0Q",
        "outputId": "61bc743f-dbfd-4ab5-860b-79fbce512293"
      },
      "source": [
        "#Haciendo un mapa de calor para verlo mejor:\n",
        "plt.figure(figsize=(8,8))\n",
        "sns.heatmap(matriz_confusion, annot=True, linewidths=.5, square = True, cmap = 'Blues_r');\n",
        "plt.ylabel('Actual label', size = 15)\n",
        "plt.xlabel('Predicted label', size = 15)\n",
        "plt.title(f'Accuracy Score: {np.round(100*score,1)}%', size = 15)\n",
        "plt.show()\n",
        "\n",
        "#Explicación: en el caso de 9, el modelo ha acertado 48 veces en su predicción, pero falló 2 veces pensando\n",
        "# que era un 1 y en la tra pensando que era un 8"
      ],
      "execution_count": null,
      "outputs": [
        {
          "output_type": "display_data",
          "data": {
            "image/png": "[encoded data removed]",
            "text/plain": [
              "<Figure size 576x576 with 2 Axes>"
            ]
          },
          "metadata": {
            "needs_background": "light"
          }
        }
      ]
    },
    {
      "cell_type": "markdown",
      "metadata": {
        "id": "Zl7MBeRd6fyQ"
      },
      "source": [
        "# Ejercicio de identificación de imágenes de números de 28x28"
      ]
    },
    {
      "cell_type": "code",
      "metadata": {
        "id": "1b7QxZ0PymAl"
      },
      "source": [
        "from sklearn.datasets import load_digits\n",
        "import matplotlib.pyplot as plt\n",
        "import numpy as np"
      ],
      "execution_count": 14,
      "outputs": []
    },
    {
      "cell_type": "code",
      "metadata": {
        "id": "2uJQIzmKUO_v"
      },
      "source": [
        "from sklearn.datasets import fetch_openml\n",
        "mnist = fetch_openml(\"mnist_784\")"
      ],
      "execution_count": 15,
      "outputs": []
    },
    {
      "cell_type": "code",
      "metadata": {
        "colab": {
          "base_uri": "https://localhost:8080/"
        },
        "id": "jFbwUwtKVq8F",
        "outputId": "239d687c-3f07-494f-ee14-66882baa4c19"
      },
      "source": [
        "mnist.keys()"
      ],
      "execution_count": 16,
      "outputs": [
        {
          "output_type": "execute_result",
          "data": {
            "text/plain": [
              "dict_keys(['data', 'target', 'frame', 'feature_names', 'target_names', 'DESCR', 'details', 'categories', 'url'])"
            ]
          },
          "metadata": {},
          "execution_count": 16
        }
      ]
    },
    {
      "cell_type": "code",
      "metadata": {
        "colab": {
          "base_uri": "https://localhost:8080/"
        },
        "id": "eZPD0lU8Vv5Z",
        "outputId": "dcf17651-a3b1-4f0e-f68f-211d28e35f22"
      },
      "source": [
        "mnist['data'].shape"
      ],
      "execution_count": 17,
      "outputs": [
        {
          "output_type": "execute_result",
          "data": {
            "text/plain": [
              "(70000, 784)"
            ]
          },
          "metadata": {},
          "execution_count": 17
        }
      ]
    },
    {
      "cell_type": "code",
      "metadata": {
        "colab": {
          "base_uri": "https://localhost:8080/"
        },
        "id": "YEreIZwAVyLe",
        "outputId": "3318f02f-981c-4820-8c0e-9a59408f0cc9"
      },
      "source": [
        "mnist['target']"
      ],
      "execution_count": 18,
      "outputs": [
        {
          "output_type": "execute_result",
          "data": {
            "text/plain": [
              "array(['5', '0', '4', ..., '4', '5', '6'], dtype=object)"
            ]
          },
          "metadata": {},
          "execution_count": 18
        }
      ]
    },
    {
      "cell_type": "code",
      "metadata": {
        "id": "tY1mlartV2sI"
      },
      "source": [
        "from sklearn.model_selection import train_test_split\n",
        "train_img, test_img, train_lbl, test_lbl = train_test_split(mnist['data'], mnist['target'], test_size=0.2, random_state=0)"
      ],
      "execution_count": 19,
      "outputs": []
    },
    {
      "cell_type": "code",
      "metadata": {
        "colab": {
          "base_uri": "https://localhost:8080/"
        },
        "id": "ZPkREloRQXPk",
        "outputId": "2617c1cd-4a2f-4120-f350-3d98307b7021"
      },
      "source": [
        "#Tamaños de mis train y test: con ello sabemos tamaño de matriz-> 28x28=784\n",
        "print(train_img.shape)\n",
        "print(test_img.shape)\n",
        "\n",
        "print(train_lbl.shape)\n",
        "print(test_lbl.shape)"
      ],
      "execution_count": 20,
      "outputs": [
        {
          "output_type": "stream",
          "name": "stdout",
          "text": [
            "(56000, 784)\n",
            "(14000, 784)\n",
            "(56000,)\n",
            "(14000,)\n"
          ]
        }
      ]
    },
    {
      "cell_type": "code",
      "metadata": {
        "colab": {
          "base_uri": "https://localhost:8080/",
          "height": 265
        },
        "id": "W66bgNQIwRNq",
        "outputId": "a57633aa-93f9-4114-cd64-474408d98fa4"
      },
      "source": [
        "#imagen = train_img[0,:]\n",
        "#imagen=imagen.reshape(28,28) \n",
        "#imagen \n",
        "\n",
        "#Para mostrar números con sus respectivas imágenes\n",
        "plt.figure(figsize=(20,4))\n",
        "for index, (image,label) in enumerate(zip(mnist['data'][:5], mnist['target'][:5])):   #los 5 primeros valores de data y de target\n",
        "  plt.subplot(1,5, index+1)       #es necesario poner el +1, sino sale error\n",
        "  plt.imshow(image.reshape(28,28), cmap='gray')\n",
        "  plt.title(f\"target: {label}\", size=24)"
      ],
      "execution_count": 21,
      "outputs": [
        {
          "output_type": "display_data",
          "data": {
            "image/png": "[encoded data removed]",
            "text/plain": [
              "<Figure size 1440x288 with 5 Axes>"
            ]
          },
          "metadata": {
            "needs_background": "light"
          }
        }
      ]
    },
    {
      "cell_type": "code",
      "metadata": {
        "id": "j2pbHPs5wpuD"
      },
      "source": [
        "from sklearn.linear_model import LogisticRegression"
      ],
      "execution_count": 22,
      "outputs": []
    },
    {
      "cell_type": "code",
      "metadata": {
        "id": "NBe0Q6EDzVgi"
      },
      "source": [
        "model = LogisticRegression(solver='lbfgs', max_iter=1000)   #el solver=lbfgs es el de defecto y max_iter es la cantidad máxima de iteraciones(más precisión)"
      ],
      "execution_count": 28,
      "outputs": []
    },
    {
      "cell_type": "code",
      "metadata": {
        "id": "ypS_N6BAzZPD",
        "colab": {
          "base_uri": "https://localhost:8080/"
        },
        "outputId": "fc41c085-325d-409d-a61d-96d8f8561ac9"
      },
      "source": [
        "model.fit(train_img, train_lbl)  "
      ],
      "execution_count": 29,
      "outputs": [
        {
          "output_type": "stream",
          "name": "stderr",
          "text": [
            "/usr/local/lib/python3.7/dist-packages/sklearn/linear_model/_logistic.py:940: ConvergenceWarning: lbfgs failed to converge (status=1):\n",
            "STOP: TOTAL NO. of ITERATIONS REACHED LIMIT.\n",
            "\n",
            "Increase the number of iterations (max_iter) or scale the data as shown in:\n",
            "    https://scikit-learn.org/stable/modules/preprocessing.html\n",
            "Please also refer to the documentation for alternative solver options:\n",
            "    https://scikit-learn.org/stable/modules/linear_model.html#logistic-regression\n",
            "  extra_warning_msg=_LOGISTIC_SOLVER_CONVERGENCE_MSG)\n"
          ]
        },
        {
          "output_type": "execute_result",
          "data": {
            "text/plain": [
              "LogisticRegression(C=1.0, class_weight=None, dual=False, fit_intercept=True,\n",
              "                   intercept_scaling=1, l1_ratio=None, max_iter=1000,\n",
              "                   multi_class='auto', n_jobs=None, penalty='l2',\n",
              "                   random_state=None, solver='lbfgs', tol=0.0001, verbose=0,\n",
              "                   warm_start=False)"
            ]
          },
          "metadata": {},
          "execution_count": 29
        }
      ]
    },
    {
      "cell_type": "code",
      "metadata": {
        "colab": {
          "base_uri": "https://localhost:8080/"
        },
        "id": "pMbIJZ6UcqMW",
        "outputId": "00bd2bdf-6519-4b16-96d5-15285e637b9a"
      },
      "source": [
        "model.n_iter_    #se usaron 1919 iteraciones para hallar el modelo"
      ],
      "execution_count": 30,
      "outputs": [
        {
          "output_type": "execute_result",
          "data": {
            "text/plain": [
              "array([1000], dtype=int32)"
            ]
          },
          "metadata": {},
          "execution_count": 30
        }
      ]
    },
    {
      "cell_type": "code",
      "metadata": {
        "id": "A45fnyqFzkKq",
        "colab": {
          "base_uri": "https://localhost:8080/"
        },
        "outputId": "93381e9d-915c-4a07-df9a-f8e8ab20df6c"
      },
      "source": [
        "#Cantidad de valores que funcionarán de entrada\n",
        "model.coef_.shape  \n",
        "#10: los números de imagen van de 0 al 9 (cada fila es un número)\n",
        "#64: con 64 valores que el Softmax tiene como entrada dada la matriz 8x8"
      ],
      "execution_count": 31,
      "outputs": [
        {
          "output_type": "execute_result",
          "data": {
            "text/plain": [
              "(10, 784)"
            ]
          },
          "metadata": {},
          "execution_count": 31
        }
      ]
    },
    {
      "cell_type": "code",
      "metadata": {
        "id": "6vgGUqBvztfv",
        "colab": {
          "base_uri": "https://localhost:8080/"
        },
        "outputId": "6c4db871-065c-4bb8-8e86-3936acf23afe"
      },
      "source": [
        "# Comparando los 20 primeros valores del test:\n",
        "print(model.predict(test_img[:20]))\n",
        "print(test_lbl[:20])"
      ],
      "execution_count": 32,
      "outputs": [
        {
          "output_type": "stream",
          "name": "stdout",
          "text": [
            "['0' '4' '1' '2' '4' '9' '7' '1' '1' '3' '1' '3' '4' '2' '6' '4' '6' '7'\n",
            " '9' '3']\n",
            "['0' '4' '1' '2' '7' '9' '7' '1' '1' '7' '1' '3' '4' '2' '6' '4' '6' '7'\n",
            " '3' '3']\n"
          ]
        }
      ]
    },
    {
      "cell_type": "code",
      "metadata": {
        "id": "ooN1TLauzz11",
        "colab": {
          "base_uri": "https://localhost:8080/"
        },
        "outputId": "1131728f-fd4b-4b44-f5d3-0981123836b3"
      },
      "source": [
        "# Midiendo qué tan bueno es mi modelo\n",
        "score = model.score(test_img, test_lbl)\n",
        "score"
      ],
      "execution_count": 33,
      "outputs": [
        {
          "output_type": "execute_result",
          "data": {
            "text/plain": [
              "0.9110714285714285"
            ]
          },
          "metadata": {},
          "execution_count": 33
        }
      ]
    },
    {
      "cell_type": "code",
      "metadata": {
        "id": "qX6Z6r-Nz5ve"
      },
      "source": [
        "# Para ver en qué valores se está confundiendo se utilizará la Mtriz de Confusión:\n",
        "from sklearn.metrics import confusion_matrix\n",
        "import seaborn as sns   #para hacer un mapa de calor (para usar con el confusion matrix)"
      ],
      "execution_count": null,
      "outputs": []
    },
    {
      "cell_type": "code",
      "metadata": {
        "id": "9kR5jYNGz8t8"
      },
      "source": [
        "pred_lbl = model.predict(test_img)    #obtención de ls valores predictivos de mi modelo usando la data del X_test\n",
        "matriz_confusion = confusion_matrix(test_lbl, pred_lbl)    #haciendo la comparación de los datos que mi modelo obtuvo vs los correctos del y_test"
      ],
      "execution_count": null,
      "outputs": []
    },
    {
      "cell_type": "code",
      "metadata": {
        "id": "aQvSMZLpz_6w",
        "colab": {
          "base_uri": "https://localhost:8080/",
          "height": 472
        },
        "outputId": "78ec8842-0ee0-4fdb-fdb6-6808b8bf6221"
      },
      "source": [
        "#Haciendo un mapa de calor para verlo mejor:\n",
        "plt.figure(figsize=(8,8))\n",
        "sns.heatmap(matriz_confusion, annot=True, linewidths=.5, square = True, cmap = 'Blues_r');\n",
        "plt.ylabel('Actual label', size = 15)\n",
        "plt.xlabel('Predicted label', size = 15)\n",
        "plt.title(f'Accuracy Score: {np.round(100*score,1)}%', size = 15)\n",
        "plt.show()\n",
        "\n",
        "#Explicación: en el caso de 9, el modelo ha acertado 48 veces en su predicción, pero falló 2 veces pensando\n",
        "# que era un 1 y en la tra pensando que era un 8"
      ],
      "execution_count": null,
      "outputs": [
        {
          "output_type": "display_data",
          "data": {
            "image/png": "[encoded data removed]",
            "text/plain": [
              "<Figure size 576x576 with 2 Axes>"
            ]
          },
          "metadata": {
            "needs_background": "light"
          }
        }
      ]
    },
    {
      "cell_type": "code",
      "metadata": {
        "id": "LFF9fsV2gQIr"
      },
      "source": [
        ""
      ],
      "execution_count": null,
      "outputs": []
    }
  ]
}